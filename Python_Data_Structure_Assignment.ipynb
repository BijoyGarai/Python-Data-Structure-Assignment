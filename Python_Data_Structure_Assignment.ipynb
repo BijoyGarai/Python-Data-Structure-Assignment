{
  "nbformat": 4,
  "nbformat_minor": 0,
  "metadata": {
    "colab": {
      "provenance": []
    },
    "kernelspec": {
      "name": "python3",
      "display_name": "Python 3"
    },
    "language_info": {
      "name": "python"
    }
  },
  "cells": [
    {
      "cell_type": "code",
      "execution_count": null,
      "metadata": {
        "colab": {
          "base_uri": "https://localhost:8080/"
        },
        "id": "zRxufyc9TGTW",
        "outputId": "bfb6de9a-97d1-46a1-a631-56648b1df03e"
      },
      "outputs": [
        {
          "output_type": "stream",
          "name": "stdout",
          "text": [
            "y\n",
            "ijo\n",
            "Bjy\n",
            "yojiB\n",
            "joy\n",
            "Bij\n"
          ]
        }
      ],
      "source": [
        "#1) Discuss string slicing and provide examples.\n",
        "#Ans: String slicing means to extract the differernt characters from the sring statement.\n",
        "# Example of string slicing:\n",
        "# Accessing a single character\n",
        "x = \"Bijoy\"\n",
        "print(x[4])  # Output: 'y'\n",
        "\n",
        "# Slicing a substring\n",
        "print(x[1:4])  # Output: 'ijo'\n",
        "\n",
        "# Slicing with step\n",
        "print(x[::2])  # Output: 'Bjy'\n",
        "\n",
        "# Reverse a string\n",
        "print(x[::-1])  # Output: 'yojiB'\n",
        "\n",
        "# Slicing from a specific index to the end\n",
        "print(x[2:])  # Output: 'joy'\n",
        "\n",
        "# Slicing from the beginning to a specific index\n",
        "print(x[:3])  # Output: 'Bij'\n"
      ]
    },
    {
      "cell_type": "code",
      "source": [
        "#2) Explain the key features of lists in Python.\n",
        "#Ans: Lists are ordered, mutable, and allow duplicate elements.\n",
        "# Lists can contain different data types:  A single list can hold numbers, strings, and even other lists.\n",
        "# Lists support indexing and slicing: Access specific elements or sub-lists.\n"
      ],
      "metadata": {
        "id": "taDXIhf_WaIO"
      },
      "execution_count": null,
      "outputs": []
    },
    {
      "cell_type": "code",
      "source": [
        "#3) Describe how to access modify and delete elements in a list with examples.\n",
        "\n",
        "# Accessing elements\n",
        "lis = [10, 20, 30, 3+7j, \"Bijoy\"]\n",
        "print(lis[0])  # Access the first element\n",
        "print(lis[-1])  # Access the last element\n",
        "\n",
        "# Modifying elements\n",
        "lis[2] = 35  # Change the third element\n",
        "print(lis)\n",
        "\n",
        "# Deleting elements\n",
        "del lis[3]  # Delete the fourth element\n",
        "print(lis)\n"
      ],
      "metadata": {
        "colab": {
          "base_uri": "https://localhost:8080/"
        },
        "id": "gvLifai8X4FW",
        "outputId": "23c2b55a-53dc-46ee-ec84-9d95e58c4347"
      },
      "execution_count": null,
      "outputs": [
        {
          "output_type": "stream",
          "name": "stdout",
          "text": [
            "10\n",
            "Bijoy\n",
            "[10, 20, 35, (3+7j), 'Bijoy']\n",
            "[10, 20, 35, 'Bijoy']\n"
          ]
        }
      ]
    },
    {
      "cell_type": "code",
      "source": [
        "#4) Compare and contrast tuples and lists with examples.\n",
        "\n",
        "# Lists\n",
        "my_list = [1, 2, 3]\n",
        "print(my_list)  # Output: [1, 2, 3]\n",
        "\n",
        "# Modify a list\n",
        "my_list[0] = 7\n",
        "print(my_list)  # Output: [7, 2, 3]\n",
        "\n",
        "# Tuples\n",
        "my_tuple = (1, 2, 3)\n",
        "print(my_tuple)  # Output: (1, 2, 3)\n",
        "\n",
        "# Attempting to modify a tuple (this will throw an error)\n",
        "# my_tuple[0] = 7\n",
        "\n",
        "\n",
        "# Key Differences:\n",
        "# Mutability: Lists are mutable, while tuples are immutable.\n",
        "# Use Cases: Tuples are often used for data that should not be modified, while lists are used for data that may need to be changed.\n",
        "# Performance: Tuples are generally slightly more efficient in terms of memory usage and performance because they are immutable.\n"
      ],
      "metadata": {
        "colab": {
          "base_uri": "https://localhost:8080/"
        },
        "id": "tgCNq4L2ZPdK",
        "outputId": "e6ca5730-4e35-4e30-b35c-be86d1293f6d"
      },
      "execution_count": null,
      "outputs": [
        {
          "output_type": "stream",
          "name": "stdout",
          "text": [
            "[1, 2, 3]\n",
            "[7, 2, 3]\n",
            "(1, 2, 3)\n"
          ]
        }
      ]
    },
    {
      "cell_type": "code",
      "source": [
        "#5) Describe the key features of sets and provide examples of their use.\n",
        "\n",
        "# Sets are unordered collections of unique elements.\n",
        "# This means that sets do not have a defined order, and each element can appear only once.\n",
        "\n",
        "# Creating a set\n",
        "my_set = {1, 2, 3, 4, 4, 5}  # Duplicate elements are ignored\n",
        "print(my_set)  # Output: {1, 2, 3, 4, 5}\n",
        "\n",
        "# Adding elements\n",
        "my_set.add(6)\n",
        "print(my_set)  # Output: {1, 2, 3, 4, 5, 6}\n",
        "\n",
        "# Removing elements\n",
        "my_set.remove(3)\n",
        "print(my_set)  # Output: {1, 2, 4, 5, 6}\n",
        "\n",
        "# Set operations\n",
        "set1 = {1, 2, 3}\n",
        "set2 = {3, 4, 5}\n",
        "\n",
        "# Union\n",
        "print(set1 | set2)  # Output: {1, 2, 3, 4, 5}\n",
        "\n",
        "# Intersection\n",
        "print(set1 & set2)  # Output: {3}\n",
        "\n",
        "# Difference\n",
        "print(set1 - set2)  # Output: {1, 2}\n"
      ],
      "metadata": {
        "colab": {
          "base_uri": "https://localhost:8080/"
        },
        "id": "Wf0MWFs7eDCd",
        "outputId": "06b1e508-a326-4e46-9212-ac989a4fdd16"
      },
      "execution_count": null,
      "outputs": [
        {
          "output_type": "stream",
          "name": "stdout",
          "text": [
            "{1, 2, 3, 4, 5}\n",
            "{1, 2, 3, 4, 5, 6}\n",
            "{1, 2, 4, 5, 6}\n",
            "{1, 2, 3, 4, 5}\n",
            "{3}\n",
            "{1, 2}\n"
          ]
        }
      ]
    },
    {
      "cell_type": "code",
      "source": [
        "#6) Discuss the use cases of tuples and sets in Python programming.\n",
        "\n",
        "# Tuple example: We use tuple as a data structure where we don't want to modify the data.\n",
        "t = (1, 2.6, 39, 4+6j, 5)\n",
        "# t[0] = 50 This will throw an error\n",
        "\n",
        "# Set example: finding unique elements\n",
        "numbers = {1, 2, 2, 3, 4, 4, 5}\n",
        "numbers  # Output: {1, 2, 3, 4, 5}\n"
      ],
      "metadata": {
        "id": "Q_LdDtPweM00",
        "colab": {
          "base_uri": "https://localhost:8080/"
        },
        "outputId": "b36abf50-e93b-4485-e51b-d565a52f8e4c"
      },
      "execution_count": 20,
      "outputs": [
        {
          "output_type": "execute_result",
          "data": {
            "text/plain": [
              "{1, 2, 3, 4, 5}"
            ]
          },
          "metadata": {},
          "execution_count": 20
        }
      ]
    },
    {
      "cell_type": "code",
      "source": [
        "#7) Describe how to add, modify and delete items in a dictionary with examples.\n",
        "\n",
        "# Creating a dictionary\n",
        "d = {\"name\": \"Bijoy\", \"age\": 25, \"city\": \"Barddhaman\"}\n",
        "\n",
        "# Adding a new key-value pair\n",
        "d[\"contact\"] = 7890123456\n",
        "print(d)  # Output: {'name': 'Bijoy', 'age': 25, 'city': 'Barddhaman', 'contact':7890123456 }\n",
        "\n",
        "# Modifying an existing value\n",
        "d[\"age\"] = 26\n",
        "print(d)  # Output: {'name': 'Bijoy', 'age': 26, 'city': 'Barddhaman', 'contact':7890123456 }\n",
        "\n",
        "# Deleting a key-value pair\n",
        "del d[\"city\"]\n",
        "print(d)  # Output: {'name': 'Bijoy', 'age': 26, 'contact': 7890123456}\n"
      ],
      "metadata": {
        "colab": {
          "base_uri": "https://localhost:8080/"
        },
        "id": "B4GoKUDrtwBc",
        "outputId": "aeed61dd-8659-469b-da61-b42d132adf62"
      },
      "execution_count": 15,
      "outputs": [
        {
          "output_type": "stream",
          "name": "stdout",
          "text": [
            "{'name': 'Bijoy', 'age': 25, 'city': 'Barddhaman', 'contact': 7890123456}\n",
            "{'name': 'Bijoy', 'age': 26, 'city': 'Barddhaman', 'contact': 7890123456}\n",
            "{'name': 'Bijoy', 'age': 26, 'contact': 7890123456}\n"
          ]
        }
      ]
    },
    {
      "cell_type": "code",
      "source": [
        "#8) Discuss the importance of dictionary keys being immutable and provide examples.\n",
        "\n",
        "# Dictionaries in Python use hash tables for efficient lookups.\n",
        "# Hash tables rely on the key's hash value to store and retrieve data.\n",
        "# Immutable objects (like strings, numbers, and tuples) have a consistent hash value.\n",
        "# This allows the dictionary to efficiently locate the key's value.\n",
        "\n",
        "# If keys were mutable, their hash values could change after creation.\n",
        "# This would break the dictionary's internal structure, making it impossible to find the correct value and potential data corruption.\n",
        "\n",
        "# Example with a mutable key [list]\n",
        "# This will throw an error because list is mutable\n",
        "# dictionary = {[1, 2]: \"Bijoy\"}\n",
        "\n",
        "# Example with an immutable key (tuple)\n",
        "dictionary = {(1, 2): \"Bijoy\"}  # This is valid\n",
        "dictionary\n"
      ],
      "metadata": {
        "colab": {
          "base_uri": "https://localhost:8080/"
        },
        "id": "WgKObnuyxMes",
        "outputId": "ecccddb4-9fb7-4fc9-bd61-e0aa13440757"
      },
      "execution_count": 13,
      "outputs": [
        {
          "output_type": "execute_result",
          "data": {
            "text/plain": [
              "{(1, 2): 'Bijoy'}"
            ]
          },
          "metadata": {},
          "execution_count": 13
        }
      ]
    },
    {
      "cell_type": "code",
      "source": [],
      "metadata": {
        "id": "G7JeJjz_zABv"
      },
      "execution_count": null,
      "outputs": []
    }
  ]
}